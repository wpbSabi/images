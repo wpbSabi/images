{
 "cells": [
  {
   "cell_type": "markdown",
   "metadata": {},
   "source": [
    "From 2020, this no longer works in the current versions of the pillow package\n",
    "* https://towardsdatascience.com/adding-text-on-image-using-python-2f5bf61bf448"
   ]
  },
  {
   "cell_type": "code",
   "execution_count": 1,
   "metadata": {
    "execution": {
     "iopub.execute_input": "2024-04-20T19:18:50.600630Z",
     "iopub.status.busy": "2024-04-20T19:18:50.600268Z",
     "iopub.status.idle": "2024-04-20T19:18:50.610807Z",
     "shell.execute_reply": "2024-04-20T19:18:50.609104Z",
     "shell.execute_reply.started": "2024-04-20T19:18:50.600601Z"
    }
   },
   "outputs": [],
   "source": [
    "# Need an older version of PIL for this to work, downgrade to 9.2\n",
    "# !pip3 install pillow==\"9.2.0\""
   ]
  },
  {
   "cell_type": "code",
   "execution_count": 2,
   "metadata": {
    "execution": {
     "iopub.execute_input": "2024-04-20T19:18:50.615347Z",
     "iopub.status.busy": "2024-04-20T19:18:50.613369Z",
     "iopub.status.idle": "2024-04-20T19:18:50.660522Z",
     "shell.execute_reply": "2024-04-20T19:18:50.655416Z",
     "shell.execute_reply.started": "2024-04-20T19:18:50.615284Z"
    }
   },
   "outputs": [
    {
     "data": {
      "text/plain": [
       "'9.2.0'"
      ]
     },
     "execution_count": 2,
     "metadata": {},
     "output_type": "execute_result"
    }
   ],
   "source": [
    "import PIL\n",
    "PIL.__version__"
   ]
  },
  {
   "cell_type": "code",
   "execution_count": 3,
   "metadata": {
    "ExecuteTime": {
     "end_time": "2021-12-24T02:29:29.574696Z",
     "start_time": "2021-12-24T02:29:29.396306Z"
    },
    "execution": {
     "iopub.execute_input": "2024-04-20T19:18:50.671413Z",
     "iopub.status.busy": "2024-04-20T19:18:50.670401Z",
     "iopub.status.idle": "2024-04-20T19:18:50.726424Z",
     "shell.execute_reply": "2024-04-20T19:18:50.725078Z",
     "shell.execute_reply.started": "2024-04-20T19:18:50.671280Z"
    }
   },
   "outputs": [],
   "source": [
    "from PIL import Image, ImageDraw, ImageFont, ImageOps\n",
    "import os"
   ]
  },
  {
   "cell_type": "code",
   "execution_count": 4,
   "metadata": {
    "ExecuteTime": {
     "end_time": "2021-12-24T02:30:11.628566Z",
     "start_time": "2021-12-24T02:30:11.619888Z"
    },
    "execution": {
     "iopub.execute_input": "2024-04-20T19:18:50.728999Z",
     "iopub.status.busy": "2024-04-20T19:18:50.728017Z",
     "iopub.status.idle": "2024-04-20T19:18:50.742614Z",
     "shell.execute_reply": "2024-04-20T19:18:50.740559Z",
     "shell.execute_reply.started": "2024-04-20T19:18:50.728937Z"
    }
   },
   "outputs": [],
   "source": [
    "def add_subtitle(\n",
    "    bg,\n",
    "    text, #text=\"nice\",\n",
    "    xy=(\"left\", 50),\n",
    "    font_color=(255, 255, 255),\n",
    "    stroke=2,\n",
    "    stroke_color=(0, 0, 0),\n",
    "    shadow=(10, 10), # was 4, 4\n",
    "    shadow_color=(0, 0, 0),\n",
    "):\n",
    "    \"\"\"draw subtitle on image by pillow\n",
    "    Args:\n",
    "        bg(PIL image): image to add subtitle\n",
    "        text(str): subtitle\n",
    "        xy(tuple): absolute top left location of subtitle\n",
    "        ...: extra style of subtitle\n",
    "    Returns:\n",
    "        bg(PIL image): image with subtitle\n",
    "    \"\"\"\n",
    "    stroke_width = stroke\n",
    "    xy = list(xy)\n",
    "    W, H = bg.width, bg.height\n",
    "    font = ImageFont.truetype('/Library/Fonts/Arial.ttf', 150)\n",
    "    w, h = font.getsize(text, stroke_width=stroke_width)\n",
    "    xy[0] = 50\n",
    "    xy[1] = 50\n",
    "#     if xy[0] == \"left\":\n",
    "#         xy[0] = (W - w) // 2\n",
    "#     if xy[1] == \"left\":\n",
    "#         xy[1] = (H - h) // 2\n",
    "    draw = ImageDraw.Draw(bg)\n",
    "\n",
    "    if shadow:\n",
    "        draw.text(\n",
    "            (xy[0] + shadow[0], xy[1] + shadow[1]), text, font=font, fill=shadow_color\n",
    "        )\n",
    "    draw.text(\n",
    "        (xy[0], xy[1]),\n",
    "        text,\n",
    "        font=font,\n",
    "        fill=font_color,\n",
    "        stroke_width=stroke_width,\n",
    "        stroke_fill=stroke_color,\n",
    "    )\n",
    "    return bg"
   ]
  },
  {
   "cell_type": "code",
   "execution_count": 5,
   "metadata": {
    "ExecuteTime": {
     "end_time": "2021-12-24T02:38:35.983297Z",
     "start_time": "2021-12-24T02:37:55.545928Z"
    },
    "execution": {
     "iopub.execute_input": "2024-04-20T19:18:50.749047Z",
     "iopub.status.busy": "2024-04-20T19:18:50.745912Z",
     "iopub.status.idle": "2024-04-20T19:18:52.288479Z",
     "shell.execute_reply": "2024-04-20T19:18:52.286039Z",
     "shell.execute_reply.started": "2024-04-20T19:18:50.748944Z"
    }
   },
   "outputs": [
    {
     "name": "stderr",
     "output_type": "stream",
     "text": [
      "/var/folders/8v/vgryqb0902x5nvym77wwv9pw0000gn/T/ipykernel_767/2242774658.py:24: DeprecationWarning: getsize is deprecated and will be removed in Pillow 10 (2023-07-01). Use getbbox or getlength instead.\n",
      "  w, h = font.getsize(text, stroke_width=stroke_width)\n"
     ]
    },
    {
     "ename": "IsADirectoryError",
     "evalue": "[Errno 21] Is a directory: 'data/.ipynb_checkpoints'",
     "output_type": "error",
     "traceback": [
      "\u001b[0;31m---------------------------------------------------------------------------\u001b[0m",
      "\u001b[0;31mIsADirectoryError\u001b[0m                         Traceback (most recent call last)",
      "Cell \u001b[0;32mIn[5], line 2\u001b[0m\n\u001b[1;32m      1\u001b[0m \u001b[38;5;28;01mfor\u001b[39;00m filename \u001b[38;5;129;01min\u001b[39;00m os\u001b[38;5;241m.\u001b[39mlistdir(\u001b[38;5;124m'\u001b[39m\u001b[38;5;124mdata\u001b[39m\u001b[38;5;124m'\u001b[39m):\n\u001b[0;32m----> 2\u001b[0m     bg \u001b[38;5;241m=\u001b[39m \u001b[43mImage\u001b[49m\u001b[38;5;241;43m.\u001b[39;49m\u001b[43mopen\u001b[49m\u001b[43m(\u001b[49m\u001b[38;5;124;43m'\u001b[39;49m\u001b[38;5;124;43mdata/\u001b[39;49m\u001b[38;5;124;43m'\u001b[39;49m\u001b[43m \u001b[49m\u001b[38;5;241;43m+\u001b[39;49m\u001b[43m \u001b[49m\u001b[43mfilename\u001b[49m\u001b[43m)\u001b[49m\n\u001b[1;32m      3\u001b[0m     bg \u001b[38;5;241m=\u001b[39m ImageOps\u001b[38;5;241m.\u001b[39mexif_transpose(bg) \u001b[38;5;66;03m# rotating the picture if necessary\u001b[39;00m\n\u001b[1;32m      4\u001b[0m     left8 \u001b[38;5;241m=\u001b[39m filename[\u001b[38;5;241m0\u001b[39m:\u001b[38;5;241m4\u001b[39m] \u001b[38;5;241m+\u001b[39m \u001b[38;5;124m'\u001b[39m\u001b[38;5;124m-\u001b[39m\u001b[38;5;124m'\u001b[39m \u001b[38;5;241m+\u001b[39m filename[\u001b[38;5;241m4\u001b[39m:\u001b[38;5;241m6\u001b[39m] \u001b[38;5;241m+\u001b[39m \u001b[38;5;124m'\u001b[39m\u001b[38;5;124m-\u001b[39m\u001b[38;5;124m'\u001b[39m \u001b[38;5;241m+\u001b[39m filename[\u001b[38;5;241m6\u001b[39m:\u001b[38;5;241m8\u001b[39m] \u001b[38;5;66;03m# rename the file\u001b[39;00m\n",
      "File \u001b[0;32m/Library/Frameworks/Python.framework/Versions/3.8/lib/python3.8/site-packages/PIL/Image.py:3092\u001b[0m, in \u001b[0;36mopen\u001b[0;34m(fp, mode, formats)\u001b[0m\n\u001b[1;32m   3089\u001b[0m     filename \u001b[38;5;241m=\u001b[39m fp\n\u001b[1;32m   3091\u001b[0m \u001b[38;5;28;01mif\u001b[39;00m filename:\n\u001b[0;32m-> 3092\u001b[0m     fp \u001b[38;5;241m=\u001b[39m \u001b[43mbuiltins\u001b[49m\u001b[38;5;241;43m.\u001b[39;49m\u001b[43mopen\u001b[49m\u001b[43m(\u001b[49m\u001b[43mfilename\u001b[49m\u001b[43m,\u001b[49m\u001b[43m \u001b[49m\u001b[38;5;124;43m\"\u001b[39;49m\u001b[38;5;124;43mrb\u001b[39;49m\u001b[38;5;124;43m\"\u001b[39;49m\u001b[43m)\u001b[49m\n\u001b[1;32m   3093\u001b[0m     exclusive_fp \u001b[38;5;241m=\u001b[39m \u001b[38;5;28;01mTrue\u001b[39;00m\n\u001b[1;32m   3095\u001b[0m \u001b[38;5;28;01mtry\u001b[39;00m:\n",
      "\u001b[0;31mIsADirectoryError\u001b[0m: [Errno 21] Is a directory: 'data/.ipynb_checkpoints'"
     ]
    }
   ],
   "source": [
    "for filename in os.listdir('data'):\n",
    "    bg = Image.open('data/' + filename)\n",
    "    bg = ImageOps.exif_transpose(bg) # rotating the picture if necessary\n",
    "    left8 = filename[0:4] + '-' + filename[4:6] + '-' + filename[6:8] # rename the file\n",
    "    add_subtitle(bg, left8) # add the annotation to the file\n",
    "    bg.save('output_files/' + left8 + '.jpg')"
   ]
  },
  {
   "cell_type": "code",
   "execution_count": null,
   "metadata": {},
   "outputs": [],
   "source": []
  },
  {
   "cell_type": "code",
   "execution_count": null,
   "metadata": {},
   "outputs": [],
   "source": []
  },
  {
   "cell_type": "code",
   "execution_count": null,
   "metadata": {},
   "outputs": [],
   "source": []
  }
 ],
 "metadata": {
  "kernelspec": {
   "display_name": "Python 3 (ipykernel)",
   "language": "python",
   "name": "python3"
  },
  "language_info": {
   "codemirror_mode": {
    "name": "ipython",
    "version": 3
   },
   "file_extension": ".py",
   "mimetype": "text/x-python",
   "name": "python",
   "nbconvert_exporter": "python",
   "pygments_lexer": "ipython3",
   "version": "3.8.5"
  },
  "toc": {
   "base_numbering": 1,
   "nav_menu": {},
   "number_sections": true,
   "sideBar": true,
   "skip_h1_title": false,
   "title_cell": "Table of Contents",
   "title_sidebar": "Contents",
   "toc_cell": false,
   "toc_position": {},
   "toc_section_display": true,
   "toc_window_display": false
  }
 },
 "nbformat": 4,
 "nbformat_minor": 4
}
